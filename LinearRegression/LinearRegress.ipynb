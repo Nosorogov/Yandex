{
 "cells": [
  {
   "cell_type": "code",
   "execution_count": 160,
   "metadata": {},
   "outputs": [
    {
     "name": "stdout",
     "output_type": "stream",
     "text": [
      "                                     FullDescription LocationNormalized  \\\n",
      "0  We currently have a vacancy for an HR Project ...      Milton Keynes   \n",
      "1  A Web developer opportunity has arisen with an...         Manchester   \n",
      "\n",
      "  ContractTime  SalaryNormalized  \n",
      "0     contract               NaN  \n",
      "1    permanent               NaN  \n"
     ]
    }
   ],
   "source": [
    "import pandas\n",
    "from sklearn.feature_extraction.text import TfidfVectorizer\n",
    "from sklearn.linear_model import Ridge\n",
    "from sklearn.feature_extraction import DictVectorizer\n",
    "from scipy.sparse import hstack\n",
    "# обучающая выборка\n",
    "dataSet_Tr = pandas.read_csv('salary-train.csv')\n",
    "X_train = dataSet_Tr.iloc[:,0:3]   # признаки - первые три столбца\n",
    "#print(X_train)\n",
    "Y_train = dataSet_Tr.iloc[:,3]   # целевой вектор\n",
    "#print(Y_train) \n",
    "dataSet_Test = pandas.read_csv('salary-test-mini.csv')\n",
    "X_test = dataSet_Test.iloc[:,0:]   # признаки - первые три столбца\n",
    "print(X_test)\n",
    "#Y_test = dataSet_Test.iloc[:,3]   # целевой вектор\n",
    "#print(Y_test.shape) "
   ]
  },
  {
   "cell_type": "code",
   "execution_count": 161,
   "metadata": {},
   "outputs": [],
   "source": [
    "X_train['FullDescription'] = X_train['FullDescription'].str.lower()\n",
    "X_train['FullDescription'] = X_train['FullDescription'].replace('[^a-zA-Z0-9]', ' ', regex = True)\n",
    "X_test['FullDescription'] = X_test['FullDescription'].str.lower()\n",
    "X_test['FullDescription'] = X_test['FullDescription'].replace('[^a-zA-Z0-9]', ' ', regex = True)"
   ]
  },
  {
   "cell_type": "code",
   "execution_count": 162,
   "metadata": {},
   "outputs": [],
   "source": [
    "vectorizer = TfidfVectorizer(min_df = 5)    # вычисление признаков TF-IDF\n",
    "X_train_vec = vectorizer.fit_transform(X_train['FullDescription'])\n",
    "X_test_vec = vectorizer.transform(X_test['FullDescription'])\n",
    "#print(vectorizer.get_feature_names())\n",
    "X_train['LocationNormalized'].fillna('nan', inplace=True)\n",
    "X_test['LocationNormalized'].fillna('nan', inplace=True)\n",
    "X_train['ContractTime'].fillna('nan', inplace=True)\n",
    "X_test['ContractTime'].fillna('nan', inplace=True)"
   ]
  },
  {
   "cell_type": "code",
   "execution_count": 163,
   "metadata": {},
   "outputs": [],
   "source": [
    "enc = DictVectorizer()\n",
    "X_train_categ = enc.fit_transform(X_train[['LocationNormalized', 'ContractTime']].to_dict('records'))\n",
    "X_test_categ = enc.transform(X_test[['LocationNormalized', 'ContractTime']].to_dict('records'))"
   ]
  },
  {
   "cell_type": "code",
   "execution_count": 164,
   "metadata": {},
   "outputs": [],
   "source": [
    "Xh_Tr = hstack((X_train_vec, X_train_categ))\n",
    "Xh_Test = hstack((X_test_vec, X_test_categ))"
   ]
  },
  {
   "cell_type": "code",
   "execution_count": 165,
   "metadata": {},
   "outputs": [
    {
     "data": {
      "text/plain": [
       "array([56567.05628269, 37140.50652386])"
      ]
     },
     "execution_count": 165,
     "metadata": {},
     "output_type": "execute_result"
    }
   ],
   "source": [
    "clf = Ridge(alpha=1, random_state=241)\n",
    "clf.fit(Xh_Tr, Y_train)\n",
    "prediction = clf.predict(Xh_Test)\n",
    "prediction"
   ]
  },
  {
   "cell_type": "code",
   "execution_count": null,
   "metadata": {},
   "outputs": [],
   "source": []
  }
 ],
 "metadata": {
  "kernelspec": {
   "display_name": "Python 3",
   "language": "python",
   "name": "python3"
  },
  "language_info": {
   "codemirror_mode": {
    "name": "ipython",
    "version": 3
   },
   "file_extension": ".py",
   "mimetype": "text/x-python",
   "name": "python",
   "nbconvert_exporter": "python",
   "pygments_lexer": "ipython3",
   "version": "3.7.6"
  }
 },
 "nbformat": 4,
 "nbformat_minor": 4
}
