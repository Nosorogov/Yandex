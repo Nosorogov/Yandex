{
 "cells": [
  {
   "cell_type": "code",
   "execution_count": 7,
   "metadata": {},
   "outputs": [
    {
     "data": {
      "text/plain": [
       "0.655"
      ]
     },
     "execution_count": 7,
     "metadata": {},
     "output_type": "execute_result"
    }
   ],
   "source": [
    "import numpy as np\n",
    "from sklearn.linear_model import Perceptron # импорт линейного персептрона\n",
    "from sklearn.metrics import accuracy_score  # импорт метрики оценки точности\n",
    "from sklearn.preprocessing import StandardScaler # импорт метрики нормализации данных\n",
    "dataSet = np.genfromtxt('perceptron-train.csv', delimiter=',') # загрузка файла\n",
    "Y_train = dataSet[:,0] # целевой вектор обучающей выборки\n",
    "X_train = dataSet[:,1:] # обучающая выборка\n",
    "dataSetTest = np.genfromtxt('perceptron-test.csv', delimiter=',')\n",
    "Y_test = dataSetTest[:,0]\n",
    "X_test = dataSetTest[:,1:]\n",
    "clf = Perceptron(random_state=241, max_iter=5, tol=None) # инициализация персептрона\n",
    "clf.fit(X_train, Y_train) # обучение персептрона на обучающей выборке\n",
    "acc_score_train = accuracy_score(Y_test, clf.predict(X_test)) # оценка точности обучения на \n",
    "# тестовой выборке\n",
    "acc_score_train"
   ]
  },
  {
   "cell_type": "code",
   "execution_count": 8,
   "metadata": {},
   "outputs": [
    {
     "data": {
      "text/plain": [
       "0.84"
      ]
     },
     "execution_count": 8,
     "metadata": {},
     "output_type": "execute_result"
    }
   ],
   "source": [
    "scaler = StandardScaler() # инициализация Инструмента нормализации выборки\n",
    "X_train_scaled = scaler.fit_transform(X_train) # нормализация обучаюшей выборки \n",
    "X_test_scaled = scaler.transform(X_test) # нормализация тестовой выборки\n",
    "clf = Perceptron(random_state=241, max_iter=5, tol=None) # инициализация персептрона\n",
    "clf.fit(X_train_scaled, Y_train) # обучение на нормализованной обучающей выборке\n",
    "acc_score_test = accuracy_score(Y_test, clf.predict(X_test_scaled)) #  расчет точности на\n",
    "# тестовой выборке\n",
    "acc_score_test"
   ]
  },
  {
   "cell_type": "code",
   "execution_count": 9,
   "metadata": {},
   "outputs": [
    {
     "data": {
      "text/plain": [
       "0.18499999999999994"
      ]
     },
     "execution_count": 9,
     "metadata": {},
     "output_type": "execute_result"
    }
   ],
   "source": [
    "mnus = acc_score_test - acc_score_train #  прирост точности после нормализации выборки\n",
    "mnus"
   ]
  }
 ],
 "metadata": {
  "kernelspec": {
   "display_name": "Python 3",
   "language": "python",
   "name": "python3"
  },
  "language_info": {
   "codemirror_mode": {
    "name": "ipython",
    "version": 3
   },
   "file_extension": ".py",
   "mimetype": "text/x-python",
   "name": "python",
   "nbconvert_exporter": "python",
   "pygments_lexer": "ipython3",
   "version": "3.7.6"
  }
 },
 "nbformat": 4,
 "nbformat_minor": 4
}
