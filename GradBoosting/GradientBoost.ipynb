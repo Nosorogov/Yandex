{
 "cells": [
  {
   "cell_type": "code",
   "execution_count": 87,
   "metadata": {},
   "outputs": [],
   "source": [
    "from sklearn.ensemble import GradientBoostingClassifier\n",
    "from sklearn.ensemble import GradientBoostingRegressor\n",
    "from sklearn.ensemble import RandomForestClassifier\n",
    "from sklearn.model_selection import train_test_split\n",
    "from sklearn.metrics import log_loss\n",
    "import matplotlib.pyplot as plt\n",
    "import numpy as np\n",
    "import pandas\n",
    "data = pandas.read_csv(\"gbm-data.csv\")\n",
    "y = data.iloc[:,0]\n",
    "X = data.iloc[:,1:]"
   ]
  },
  {
   "cell_type": "code",
   "execution_count": 88,
   "metadata": {},
   "outputs": [
    {
     "name": "stdout",
     "output_type": "stream",
     "text": [
      "      Iter       Train Loss   Remaining Time \n",
      "         1           1.3149           23.39s\n",
      "         2           1.2561           28.37s\n",
      "         3           1.2075           31.29s\n",
      "         4           1.1652           31.52s\n",
      "         5           1.1271           30.33s\n",
      "         6           1.0965           29.93s\n",
      "         7           1.0659           30.57s\n",
      "         8           1.0399           30.96s\n",
      "         9           1.0174           30.23s\n",
      "        10           0.9986           29.95s\n",
      "        20           0.8382           25.62s\n",
      "        30           0.7501           23.26s\n",
      "        40           0.6821           21.55s\n",
      "        50           0.6343           20.15s\n",
      "        60           0.5941           18.86s\n",
      "        70           0.5665           17.71s\n",
      "        80           0.5279           16.62s\n",
      "        90           0.4938           15.56s\n",
      "       100           0.4570           14.66s\n",
      "       200           0.2507            4.83s\n",
      "61 | 0.5097832662061682\n",
      "0 | 0.6634109951006724\n"
     ]
    }
   ],
   "source": [
    "X_train, X_test, y_train, y_test = train_test_split(X, y, test_size=0.8)\n",
    "ranges = [1, 0.5, 0.3, 0.2, 0.1]\n",
    "test_loss = np.empty(250)\n",
    "#for i in range(5):\n",
    "classifier = GradientBoostingClassifier(n_estimators=250, verbose=True, random_state=241, \n",
    "                                            learning_rate=0.1)\n",
    "classifier.fit(X_train, y_train)\n",
    "    #pred = classifier.predict_proba(X_train)\n",
    "    #for y_pred in enumerate(classifier.staged_decision_function(X_train)):\n",
    "        #sigma = 1 / (1 + np.exp(-y_pred))\n",
    "        #log_loss(y_test, y_pred)\n",
    "        #predict=classifier.predict_proba(sigma)\n",
    "test_loss_min = 2.0\n",
    "test_loss_max = 0.0\n",
    "n_min = 0\n",
    "n_max = 0\n",
    "for i, y_pred in enumerate(classifier.staged_decision_function(X_test)):\n",
    "    test_loss[i] = log_loss(y_test, 1 / (1 + np.exp(-y_pred)))\n",
    "   # print(i, \"|\" ,test_loss[i])\n",
    "    if test_loss_min > test_loss[i]:\n",
    "        test_loss_min = test_loss[i]\n",
    "        n_min = i\n",
    "    if test_loss_max < test_loss[i]:\n",
    "        test_loss_max = test_loss[i]\n",
    "        n_max = i\n",
    "print(n_min,\"|\", test_loss_min)\n",
    "print(n_max,\"|\", test_loss_max)"
   ]
  },
  {
   "cell_type": "code",
   "execution_count": 89,
   "metadata": {},
   "outputs": [
    {
     "name": "stdout",
     "output_type": "stream",
     "text": [
      "0.6634109951006724\n",
      "0.5097832662061682\n"
     ]
    },
    {
     "data": {
      "text/plain": [
       "<matplotlib.legend.Legend at 0x2690e88bf08>"
      ]
     },
     "execution_count": 89,
     "metadata": {},
     "output_type": "execute_result"
    },
    {
     "data": {
      "image/png": "[encoded data removed]",
      "text/plain": [
       "<Figure size 432x288 with 1 Axes>"
      ]
     },
     "metadata": {
      "needs_background": "light"
     },
     "output_type": "display_data"
    }
   ],
   "source": [
    "print(test_loss.max())\n",
    "print(test_loss.min())\n",
    "#%matplotlib inline\n",
    "plt.figure()\n",
    "plt.plot(test_loss, 'r', linewidth=2)\n",
    "#plt.plot(y_pred, 'g', linewidth=2)\n",
    "plt.legend(['test', 'train'])"
   ]
  },
  {
   "cell_type": "code",
   "execution_count": 91,
   "metadata": {},
   "outputs": [
    {
     "data": {
      "text/plain": [
       "0.541655447528219"
      ]
     },
     "execution_count": 91,
     "metadata": {},
     "output_type": "execute_result"
    }
   ],
   "source": [
    "clf = RandomForestClassifier(n_estimators=37, random_state=241)\n",
    "clf.fit(X_train, y_train)\n",
    "y_pred = clf.predict_proba(X_test)\n",
    "log_loss(y_test, y_pred)"
   ]
  }
 ],
 "metadata": {
  "kernelspec": {
   "display_name": "Python 3",
   "language": "python",
   "name": "python3"
  },
  "language_info": {
   "codemirror_mode": {
    "name": "ipython",
    "version": 3
   },
   "file_extension": ".py",
   "mimetype": "text/x-python",
   "name": "python",
   "nbconvert_exporter": "python",
   "pygments_lexer": "ipython3",
   "version": "3.7.6"
  }
 },
 "nbformat": 4,
 "nbformat_minor": 4
}
